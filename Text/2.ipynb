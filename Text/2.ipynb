{
 "cells": [
  {
   "cell_type": "markdown",
   "metadata": {},
   "source": [
    "# Sentiment Analysis"
   ]
  },
  {
   "cell_type": "code",
   "execution_count": 1,
   "metadata": {},
   "outputs": [],
   "source": [
    "from textblob import TextBlob\n",
    "import matplotlib.pyplot as plt\n",
    "with open(\"data/2.txt\", 'r') as fh: reviews = fh.readlines()"
   ]
  },
  {
   "cell_type": "code",
   "execution_count": 2,
   "metadata": {},
   "outputs": [
    {
     "name": "stdout",
     "output_type": "stream",
     "text": [
      "Review                                             : Polarity  : Subjectivity\n",
      "When your main character in a superhero movie is u :   0.17    :     0.33\n",
      "Her performance was forced, uninspiring and flat!  :  -0.11    :     0.11\n",
      "I couldn't believe how boring this movie was. The  :  -0.51    :     0.72\n",
      "Nothing beats a good marvel movie, and this is def :   0.70    :     0.60\n",
      "This movie did for Marvel what Wonder Woman did fo :   0.60    :     0.68\n",
      "Captain Marvel just became my favorite superhero o :   0.40    :     0.64\n",
      "This is a very controversial Marvel film. Which se :   0.36    :     0.62\n",
      "Unfortunately, despite carrying many elements of p :  -0.14    :     0.48\n",
      "It's worth watching just for the fact that this ch :   0.30    :     0.10\n",
      "It's great for a first time viewing. Would you wat :   0.38    :     0.51\n"
     ]
    }
   ],
   "source": [
    "print('{:50} : {:9} : {:10}'.format(\"Review\", \"Polarity\", \"Subjectivity\"))\n",
    "for review in reviews:    \n",
    "    sentiment = TextBlob(review)\n",
    "    print('{:50} :  {: 01.2f}    :     {:01.2f}'.format(\n",
    "        review[:50], sentiment.polarity, sentiment.subjectivity))"
   ]
  },
  {
   "cell_type": "code",
   "execution_count": 3,
   "metadata": {},
   "outputs": [
    {
     "name": "stdout",
     "output_type": "stream",
     "text": [
      "Final summarized counts : [2, 6, 2]\n"
     ]
    },
    {
     "data": {
      "image/png": "[encoded data removed]",
      "text/plain": [
       "<Figure size 432x288 with 1 Axes>"
      ]
     },
     "metadata": {},
     "output_type": "display_data"
    }
   ],
   "source": [
    "labels = [\"Negative\", \"Neutral\", \"Positive\"]\n",
    "values = [0,0,0]\n",
    "\n",
    "for review in reviews:\n",
    "    sentiment = TextBlob(review)\n",
    "    polarity = round((sentiment.polarity + 1) * 3) % 3\n",
    "    values[polarity] = values[polarity] + 1\n",
    "    \n",
    "print(\"Final summarized counts :\", values)\n",
    "plt.pie(values, labels=labels, colors=[\"#1FAD39\",\"#077920\",\"#99EEDF\"], \n",
    "        autopct='%1.1f%%', shadow=True, startangle=140)\n",
    "plt.axis('equal')\n",
    "plt.show()"
   ]
  }
 ],
 "metadata": {
  "kernelspec": {
   "display_name": "Python 3",
   "language": "python",
   "name": "python3"
  },
  "language_info": {
   "codemirror_mode": {
    "name": "ipython",
    "version": 3
   },
   "file_extension": ".py",
   "mimetype": "text/x-python",
   "name": "python",
   "nbconvert_exporter": "python",
   "pygments_lexer": "ipython3",
   "version": "3.8.8"
  }
 },
 "nbformat": 4,
 "nbformat_minor": 2
}

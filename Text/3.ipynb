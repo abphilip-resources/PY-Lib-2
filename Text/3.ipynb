{
 "cells": [
  {
   "cell_type": "markdown",
   "metadata": {},
   "source": [
    "# Text Clustering"
   ]
  },
  {
   "cell_type": "code",
   "execution_count": 1,
   "metadata": {},
   "outputs": [],
   "source": [
    "import pandas as pd\n",
    "import matplotlib.pyplot as plt\n",
    "from sklearn.cluster import KMeans\n",
    "from sklearn.feature_extraction.text import TfidfVectorizer"
   ]
  },
  {
   "cell_type": "code",
   "execution_count": 2,
   "metadata": {},
   "outputs": [
    {
     "name": "stdout",
     "output_type": "stream",
     "text": [
      "Feature names Identified : ['advanced', 'automation', 'bigdata', 'datascience', 'design', 'developer', 'gcp', 'graphics', 'hadoop', 'ide', 'intermediate', 'java', 'jdbc', 'kubernetes', 'machinelearning', 'patterns', 'programming', 'python', 'scala', 'scripting']\n"
     ]
    }
   ],
   "source": [
    "hashtags_df = pd.read_csv(\"data/C.csv\")\n",
    "hash_list = hashtags_df[\"HashTags\"].tolist()\n",
    "title_list = hashtags_df[\"Course\"].tolist()\n",
    "\n",
    "vectorizer = TfidfVectorizer(stop_words='english')\n",
    "hash_matrix = vectorizer.fit_transform(hash_list)\n",
    "print(\"Feature names Identified :\", vectorizer.get_feature_names())"
   ]
  },
  {
   "cell_type": "code",
   "execution_count": 3,
   "metadata": {},
   "outputs": [
    {
     "name": "stdout",
     "output_type": "stream",
     "text": [
      "\n",
      "Group :  0 \n",
      "-----------\n",
      "Java Memory Management\n",
      "Java: Database Integration and JDBC\n",
      "R Programming\n",
      "Java IDE Overview\n",
      "Kubernetes for Java Developers\n",
      "\n",
      "Group :  1 \n",
      "-----------\n",
      "Apache Spark Essential Training\n",
      "Machine Learning and AI Foundations\n",
      "Hadoop for Data Science\n",
      "Data Science on Google Cloud Platform\n",
      "Scala for Data Science\n",
      "\n",
      "Group :  2 \n",
      "-----------\n",
      "Python Automation and Testing\n",
      "Python for Graphics\n",
      "Python Design Patterns\n",
      "Python Scripting\n"
     ]
    }
   ],
   "source": [
    "kmeans = KMeans(n_clusters=3).fit(hash_matrix)\n",
    "clusters = kmeans.labels_\n",
    "\n",
    "for group in set(clusters):\n",
    "    print(\"\\nGroup : \", group, \"\\n-----------\")\n",
    "    for i in hashtags_df.index:\n",
    "        if (clusters[i] == group): print(title_list[i])"
   ]
  },
  {
   "cell_type": "code",
   "execution_count": 4,
   "metadata": {},
   "outputs": [
    {
     "name": "stdout",
     "output_type": "stream",
     "text": [
      "Sum of squared distances :  [11.433022387031059, 9.055813116540266, 6.7610661721912155, 5.6283212260073165, 4.886021572220181, 4.11101805980707, 3.3481406712109574, 3.0519887306312774, 2.3379688160823204, 1.8084541514944248, 1.3264482360674248, 0.8457910455266846, 0.40164181287464107, 2.220446049250313e-16]\n"
     ]
    },
    {
     "data": {
      "image/png": "[encoded data removed]",
      "text/plain": [
       "<Figure size 432x288 with 1 Axes>"
      ]
     },
     "metadata": {
      "needs_background": "light"
     },
     "output_type": "display_data"
    }
   ],
   "source": [
    "s = []\n",
    "K = range(1,15)\n",
    "for k in K:\n",
    "    km = KMeans(n_clusters=k)\n",
    "    km = km.fit(hash_matrix)\n",
    "    s.append(km.inertia_)\n",
    "    \n",
    "print(\"Sum of squared distances : \", s)\n",
    "plt.plot(K, s, 'bx-')\n",
    "plt.xlabel('Cluster count')\n",
    "plt.ylabel('Sum_of_squared_distances')\n",
    "plt.title('Elbow Method For Optimal Cluster Size')\n",
    "plt.show()"
   ]
  }
 ],
 "metadata": {
  "kernelspec": {
   "display_name": "Python 3",
   "language": "python",
   "name": "python3"
  },
  "language_info": {
   "codemirror_mode": {
    "name": "ipython",
    "version": 3
   },
   "file_extension": ".py",
   "mimetype": "text/x-python",
   "name": "python",
   "nbconvert_exporter": "python",
   "pygments_lexer": "ipython3",
   "version": "3.8.8"
  }
 },
 "nbformat": 4,
 "nbformat_minor": 2
}

{
 "cells": [
  {
   "cell_type": "markdown",
   "metadata": {},
   "source": [
    "# Text Classification"
   ]
  },
  {
   "cell_type": "code",
   "execution_count": 1,
   "metadata": {},
   "outputs": [
    {
     "name": "stderr",
     "output_type": "stream",
     "text": [
      "[nltk_data] Downloading package stopwords to\n",
      "[nltk_data]     C:\\Users\\allen\\AppData\\Roaming\\nltk_data...\n",
      "[nltk_data]   Package stopwords is already up-to-date!\n",
      "[nltk_data] Downloading package wordnet to\n",
      "[nltk_data]     C:\\Users\\allen\\AppData\\Roaming\\nltk_data...\n",
      "[nltk_data]   Package wordnet is already up-to-date!\n"
     ]
    }
   ],
   "source": [
    "import nltk\n",
    "from nltk.corpus import stopwords\n",
    "from nltk.stem import WordNetLemmatizer\n",
    "from sklearn import metrics\n",
    "from sklearn import preprocessing\n",
    "from sklearn.model_selection import train_test_split\n",
    "from sklearn.naive_bayes import MultinomialNB\n",
    "from sklearn.feature_extraction.text import TfidfVectorizer\n",
    "\n",
    "nltk.download('stopwords')\n",
    "nltk.download('wordnet')\n",
    "lemmatizer = WordNetLemmatizer()\n",
    "\n",
    "with open(\"data/A.txt\", 'r') as fh: descriptions = fh.read().splitlines()\n",
    "with open(\"data/D.txt\", 'r') as fh: classifications = fh.read().splitlines()"
   ]
  },
  {
   "cell_type": "code",
   "execution_count": 2,
   "metadata": {},
   "outputs": [
    {
     "name": "stdout",
     "output_type": "stream",
     "text": [
      "\n",
      "Size of TFIDF matrix :  (20, 240)\n"
     ]
    }
   ],
   "source": [
    "def customtokenize(str):\n",
    "    tokens = nltk.word_tokenize(str)\n",
    "    nostop = list(filter(lambda token: token not in stopwords.words('english'), tokens))\n",
    "    lemmatized = [lemmatizer.lemmatize(word) for word in nostop ]\n",
    "    return lemmatized\n",
    "\n",
    "vectorizer = TfidfVectorizer(tokenizer=customtokenize)\n",
    "tfidf=vectorizer.fit_transform(descriptions)\n",
    "print(\"\\nSize of TFIDF matrix : \",tfidf.shape)"
   ]
  },
  {
   "cell_type": "code",
   "execution_count": 3,
   "metadata": {},
   "outputs": [
    {
     "name": "stdout",
     "output_type": "stream",
     "text": [
      "Classes found :  ['Cloud-Computing' 'Data-Science' 'Programming']\n",
      "Classes converted to integers : [1 2 2 0 1 2 1 2 0 1 1 2 2 0 2 0 0 0 2 2]\n"
     ]
    }
   ],
   "source": [
    "le = preprocessing.LabelEncoder()\n",
    "le.fit(classifications)\n",
    "int_classes = le.transform(classifications)\n",
    "\n",
    "print(\"Classes found : \", le.classes_)\n",
    "print(\"Classes converted to integers :\", int_classes)\n",
    "\n",
    "xtrain, xtest, ytrain, ytest = train_test_split(tfidf, int_classes,random_state=0)\n",
    "classifier = MultinomialNB().fit(xtrain, ytrain)"
   ]
  },
  {
   "cell_type": "code",
   "execution_count": 4,
   "metadata": {},
   "outputs": [
    {
     "name": "stdout",
     "output_type": "stream",
     "text": [
      "Testing with Test Data \n",
      "----------------------\n",
      "Prediction Accuracy :  0.6\n",
      "Confusion Matrix : \n",
      " [[1 0 0]\n",
      " [0 0 1]\n",
      " [1 0 2]]\n",
      "\n",
      "Testing with Full Corpus \n",
      "------------------------\n",
      "Prediction Accuracy :  0.9\n",
      "Confusion Matrix : \n",
      " [[6 0 0]\n",
      " [0 4 1]\n",
      " [1 0 8]]\n"
     ]
    }
   ],
   "source": [
    "print(\"Testing with Test Data \\n----------------------\")\n",
    "predictions = classifier.predict(xtest)\n",
    "print(\"Prediction Accuracy : \", metrics.accuracy_score(ytest, predictions))\n",
    "print(\"Confusion Matrix : \\n\", metrics.confusion_matrix(ytest, predictions))\n",
    "\n",
    "print(\"\\nTesting with Full Corpus \\n------------------------\")\n",
    "predictions = classifier.predict(tfidf)\n",
    "print(\"Prediction Accuracy : \", metrics.accuracy_score(int_classes, predictions))\n",
    "print(\"Confusion Matrix : \\n\", metrics.confusion_matrix(int_classes, predictions))"
   ]
  }
 ],
 "metadata": {
  "kernelspec": {
   "display_name": "Python 3",
   "language": "python",
   "name": "python3"
  },
  "language_info": {
   "codemirror_mode": {
    "name": "ipython",
    "version": 3
   },
   "file_extension": ".py",
   "mimetype": "text/x-python",
   "name": "python",
   "nbconvert_exporter": "python",
   "pygments_lexer": "ipython3",
   "version": "3.8.8"
  }
 },
 "nbformat": 4,
 "nbformat_minor": 2
}
